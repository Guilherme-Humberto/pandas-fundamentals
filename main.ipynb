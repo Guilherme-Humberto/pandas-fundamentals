{
 "cells": [
  {
   "cell_type": "markdown",
   "id": "3ae72fe8",
   "metadata": {},
   "source": [
    "# Introdução ao pandas\n",
    "\n",
    "Pandas é um biblioteca para manipulação e análise de dados, escrita em Python. Essa é a biblioteca perfeita para iniciar suas análises exploratórias de dados, pois ela nos permite ler, manipular, agregar e plotar os dados em poucos passos."
   ]
  },
  {
   "cell_type": "markdown",
   "id": "2166bc58",
   "metadata": {},
   "source": [
    "Busca comentários jsonplaceholder"
   ]
  },
  {
   "cell_type": "code",
   "execution_count": 4,
   "id": "0e74e143",
   "metadata": {},
   "outputs": [],
   "source": [
    "import requests\n",
    "import pandas as pd\n",
    "\n",
    "def getCommentRequest(start, limit):\n",
    "    response = requests.get(f'https://jsonplaceholder.typicode.com/comments?_start={start}&_limit={limit}')\n",
    "    return response.json()"
   ]
  },
  {
   "cell_type": "code",
   "execution_count": 5,
   "id": "32af1906",
   "metadata": {},
   "outputs": [],
   "source": [
    "def createCommentObjectData(comments):\n",
    "    email = []\n",
    "    title = []\n",
    "    commentId = []\n",
    "    body = []\n",
    "\n",
    "    for comment in comments:\n",
    "        commentId.append(comment['id'])\n",
    "        title.append(comment['name'])\n",
    "        body.append(comment['body'])\n",
    "        email.append(comment['email'])\n",
    "\n",
    "    return {\n",
    "        \"ID\": commentId,\n",
    "        \"TITLE\": title,\n",
    "        \"EMAIL\": email,\n",
    "        \"BODY\": body\n",
    "    }"
   ]
  },
  {
   "cell_type": "code",
   "execution_count": 6,
   "id": "47b9bdb3",
   "metadata": {},
   "outputs": [],
   "source": [
    "comments = getCommentRequest(start=0, limit=5)\n",
    "commentData = createCommentObjectData(comments)\n",
    "\n",
    "commentDataFrame = pd.DataFrame(commentData)"
   ]
  },
  {
   "cell_type": "markdown",
   "id": "e841ad45",
   "metadata": {},
   "source": [
    "### Metodos de visualização de dados\n",
    "- head\n",
    "- shape\n",
    "- describe"
   ]
  },
  {
   "cell_type": "code",
   "execution_count": 7,
   "id": "f8629854",
   "metadata": {},
   "outputs": [],
   "source": [
    "## Retorna 10 registros na tabela\n",
    "commentsDf = commentDataFrame.head(10)\n",
    "\n",
    "## Retorna coluna/colunas especificas da tabela\n",
    "titleSerie = commentDataFrame['TITLE']\n",
    "\n",
    "commentsDf = commentDataFrame[['TITLE', 'EMAIL']]\n",
    "## Retorna valor especifico da coluna TITLE\n",
    "commentsDf = titleSerie[4]\n",
    "\n",
    "#W Retorna quantidade de linhas e colunas da tabela\n",
    "commentsDf = commentDataFrame.shape\n",
    "\n",
    "## Retorna informações sobre os registros na tabela\n",
    "commentsDf = commentDataFrame.describe()"
   ]
  },
  {
   "cell_type": "markdown",
   "id": "3aa2088d",
   "metadata": {},
   "source": [
    "### Visualização dos dados utilizando o metodo loc\n",
    ".loc[linha, coluna]"
   ]
  },
  {
   "cell_type": "code",
   "execution_count": 8,
   "id": "bdb64063",
   "metadata": {},
   "outputs": [],
   "source": [
    "## Retorna o primeiro resgitro da tabela\n",
    "firstComment = commentDataFrame.loc[0]\n",
    "\n",
    "## Retorna do primeiro registro até o terceiro\n",
    "comments = commentDataFrame.loc[0:2]\n",
    "\n",
    "## Retorna uma linha da tabela filtrando um registro\n",
    "filterComment = commentDataFrame['EMAIL'] == 'Eliseo@gardner.biz'\n",
    "comments = commentDataFrame.loc[filterComment]\n",
    "\n",
    "## Retorna um registro mostrando coluna especificas\n",
    "comments = commentDataFrame.loc[filterComment, ['TITLE', 'EMAIL']]\n",
    "\n",
    "## Retorna valor especifico da coluna\n",
    "comments = commentDataFrame.loc[1, 'TITLE']"
   ]
  },
  {
   "attachments": {},
   "cell_type": "markdown",
   "id": "a30abf52",
   "metadata": {},
   "source": [
    "### Adicionar nova coluna"
   ]
  },
  {
   "cell_type": "code",
   "execution_count": 9,
   "id": "d6005a40",
   "metadata": {},
   "outputs": [],
   "source": [
    "## Criar coluna a partir de uma coluna existente\n",
    "commentDataFrame['SLUG'] = commentDataFrame['TITLE']\n",
    "\n",
    "## Criar coluna nova\n",
    "commentDataFrame.loc[:, 'POST_ID'] = 1\n"
   ]
  },
  {
   "cell_type": "markdown",
   "id": "6c95a177",
   "metadata": {},
   "source": [
    "### Adicionar novas linhas"
   ]
  },
  {
   "cell_type": "code",
   "execution_count": 10,
   "id": "db6a73c7",
   "metadata": {},
   "outputs": [
    {
     "name": "stderr",
     "output_type": "stream",
     "text": [
      "C:\\Users\\guilh\\AppData\\Local\\Temp\\ipykernel_35836\\730066068.py:5: FutureWarning: The frame.append method is deprecated and will be removed from pandas in a future version. Use pandas.concat instead.\n",
      "  comments = commentDataFrame.append(newCommentDataFrame)\n"
     ]
    }
   ],
   "source": [
    "newComments = getCommentRequest(start=5, limit=5)\n",
    "commentData = createCommentObjectData(newComments)\n",
    "\n",
    "newCommentDataFrame = pd.DataFrame(commentData)\n",
    "comments = commentDataFrame.append(newCommentDataFrame)"
   ]
  },
  {
   "cell_type": "markdown",
   "id": "14b7cf8c",
   "metadata": {},
   "source": [
    "### Excluir linhas e colunas\n",
    "axis: eixo da coluna ou linha. 0 é a linha e 1 é a coluna"
   ]
  },
  {
   "cell_type": "code",
   "execution_count": 11,
   "id": "fdb20e2e",
   "metadata": {},
   "outputs": [],
   "source": [
    "comments = commentDataFrame.drop('BODY', axis=1)\n",
    "comments = commentDataFrame.drop(0, axis=0)"
   ]
  },
  {
   "cell_type": "code",
   "execution_count": null,
   "id": "0767a4d3",
   "metadata": {},
   "outputs": [],
   "source": []
  }
 ],
 "metadata": {
  "kernelspec": {
   "display_name": "Python 3 (ipykernel)",
   "language": "python",
   "name": "python3"
  },
  "language_info": {
   "codemirror_mode": {
    "name": "ipython",
    "version": 3
   },
   "file_extension": ".py",
   "mimetype": "text/x-python",
   "name": "python",
   "nbconvert_exporter": "python",
   "pygments_lexer": "ipython3",
   "version": "3.10.6"
  },
  "vscode": {
   "interpreter": {
    "hash": "d776b604cc3904292aea37f4daa2a46de34e87e5ec4d2ed68e9e515ab9feb7f7"
   }
  }
 },
 "nbformat": 4,
 "nbformat_minor": 5
}
