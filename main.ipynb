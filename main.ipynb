{
 "cells": [
  {
   "cell_type": "markdown",
   "id": "3ae72fe8",
   "metadata": {},
   "source": [
    "# Introdução ao pandas\n",
    "\n",
    "Pandas é um biblioteca para manipulação e análise de dados, escrita em Python. Essa é a biblioteca perfeita para iniciar suas análises exploratórias de dados, pois ela nos permite ler, manipular, agregar e plotar os dados em poucos passos."
   ]
  },
  {
   "cell_type": "markdown",
   "id": "2166bc58",
   "metadata": {},
   "source": [
    "Busca comentários jsonplaceholder"
   ]
  },
  {
   "cell_type": "code",
   "execution_count": 2,
   "id": "0e74e143",
   "metadata": {},
   "outputs": [],
   "source": [
    "import requests\n",
    "import pandas\n",
    "\n",
    "response = requests.get('https://jsonplaceholder.typicode.com/comments')\n",
    "comments = response.json()"
   ]
  },
  {
   "cell_type": "code",
   "execution_count": 3,
   "id": "32af1906",
   "metadata": {},
   "outputs": [],
   "source": [
    "email = []\n",
    "title = []\n",
    "commentId = []\n",
    "body = []\n",
    "\n",
    "for comment in comments:\n",
    "    commentId.append(comment['id'])\n",
    "    title.append(comment['name'])\n",
    "    body.append(comment['body'])\n",
    "    email.append(comment['email'])\n",
    "    \n",
    "commentData = {\n",
    "    \"ID\": commentId,\n",
    "    \"TITLE\": title,\n",
    "    \"EMAIL\": email,\n",
    "    \"BODY\": body\n",
    "}"
   ]
  },
  {
   "cell_type": "code",
   "execution_count": 4,
   "id": "47b9bdb3",
   "metadata": {},
   "outputs": [],
   "source": [
    "commentDataFrame = pandas.DataFrame(commentData)"
   ]
  },
  {
   "cell_type": "markdown",
   "id": "e841ad45",
   "metadata": {},
   "source": [
    "### Metodos de visualização de dados\n",
    "- head\n",
    "- shape\n",
    "- describe"
   ]
  },
  {
   "cell_type": "code",
   "execution_count": 5,
   "id": "f8629854",
   "metadata": {},
   "outputs": [],
   "source": [
    "## Retorna 10 registros na tabela\n",
    "comments = commentDataFrame.head(10)\n",
    "\n",
    "## Retorna coluna/colunas especificas da tabela\n",
    "titleSerie = commentDataFrame['TITLE']\n",
    "titleAndEmails = commentDataFrame[['TITLE', 'EMAIL']]\n",
    "\n",
    "## Retorna valor especifico da coluna TITLE\n",
    "commentTitle = titleSerie[5]\n",
    "\n",
    "#W Retorna quantidade de linhas e colunas da tabela\n",
    "tableShape = commentDataFrame.shape\n",
    "\n",
    "## Retorna informações sobre os registros na tabela\n",
    "tableDescribe = commentDataFrame.describe()"
   ]
  },
  {
   "cell_type": "markdown",
   "id": "3aa2088d",
   "metadata": {},
   "source": [
    "### Visualização dos dados utilizando o metodo loc"
   ]
  },
  {
   "cell_type": "code",
   "execution_count": 6,
   "id": "bdb64063",
   "metadata": {},
   "outputs": [
    {
     "data": {
      "text/html": [
       "<div>\n",
       "<style scoped>\n",
       "    .dataframe tbody tr th:only-of-type {\n",
       "        vertical-align: middle;\n",
       "    }\n",
       "\n",
       "    .dataframe tbody tr th {\n",
       "        vertical-align: top;\n",
       "    }\n",
       "\n",
       "    .dataframe thead th {\n",
       "        text-align: right;\n",
       "    }\n",
       "</style>\n",
       "<table border=\"1\" class=\"dataframe\">\n",
       "  <thead>\n",
       "    <tr style=\"text-align: right;\">\n",
       "      <th></th>\n",
       "      <th>TITLE</th>\n",
       "      <th>EMAIL</th>\n",
       "    </tr>\n",
       "  </thead>\n",
       "  <tbody>\n",
       "    <tr>\n",
       "      <th>0</th>\n",
       "      <td>id labore ex et quam laborum</td>\n",
       "      <td>Eliseo@gardner.biz</td>\n",
       "    </tr>\n",
       "  </tbody>\n",
       "</table>\n",
       "</div>"
      ],
      "text/plain": [
       "                          TITLE               EMAIL\n",
       "0  id labore ex et quam laborum  Eliseo@gardner.biz"
      ]
     },
     "metadata": {},
     "output_type": "display_data"
    }
   ],
   "source": [
    "## Retorna o primeiro resgitro da tabela\n",
    "firstComment = commentDataFrame.loc[0]\n",
    "\n",
    "## Retorna do primeiro registro até o terceiro\n",
    "comments = commentDataFrame.loc[0:2]\n",
    "\n",
    "## Retorna uma linha da tabela filtrando um registro\n",
    "filterComment = commentDataFrame['EMAIL'] == 'Eliseo@gardner.biz'\n",
    "comments = commentDataFrame.loc[filterComment]\n",
    "\n",
    "\n",
    "## Retorna um registro mostrando coluna especificas\n",
    "comments = commentDataFrame.loc[filterComment, ['TITLE', 'EMAIL']]\n",
    "display(comments)"
   ]
  },
  {
   "cell_type": "code",
   "execution_count": null,
   "id": "4cd76b9b",
   "metadata": {},
   "outputs": [],
   "source": []
  }
 ],
 "metadata": {
  "kernelspec": {
   "display_name": "Python 3.10.6 64-bit",
   "language": "python",
   "name": "python3"
  },
  "language_info": {
   "codemirror_mode": {
    "name": "ipython",
    "version": 3
   },
   "file_extension": ".py",
   "mimetype": "text/x-python",
   "name": "python",
   "nbconvert_exporter": "python",
   "pygments_lexer": "ipython3",
   "version": "3.10.6"
  },
  "vscode": {
   "interpreter": {
    "hash": "d776b604cc3904292aea37f4daa2a46de34e87e5ec4d2ed68e9e515ab9feb7f7"
   }
  }
 },
 "nbformat": 4,
 "nbformat_minor": 5
}
