{
 "cells": [
  {
   "cell_type": "markdown",
   "id": "3ae72fe8",
   "metadata": {},
   "source": [
    "# Introdução ao pandas\n",
    "\n",
    "Pandas é um biblioteca para manipulação e análise de dados, escrita em Python. Essa é a biblioteca perfeita para iniciar suas análises exploratórias de dados, pois ela nos permite ler, manipular, agregar e plotar os dados em poucos passos."
   ]
  },
  {
   "cell_type": "markdown",
   "id": "2166bc58",
   "metadata": {},
   "source": [
    "Busca comentários jsonplaceholder"
   ]
  },
  {
   "cell_type": "code",
   "execution_count": 75,
   "id": "0e74e143",
   "metadata": {},
   "outputs": [],
   "source": [
    "import requests\n",
    "import pandas as pd\n",
    "\n",
    "def getCommentRequest(start, limit):\n",
    "    response = requests.get(f'https://jsonplaceholder.typicode.com/comments?_start={start}&_limit={limit}')\n",
    "    return response.json()"
   ]
  },
  {
   "cell_type": "code",
   "execution_count": 76,
   "id": "32af1906",
   "metadata": {},
   "outputs": [],
   "source": [
    "def createCommentObjectData(comments):\n",
    "    email = []\n",
    "    title = []\n",
    "    commentId = []\n",
    "    body = []\n",
    "\n",
    "    for comment in comments:\n",
    "        commentId.append(comment['id'])\n",
    "        title.append(comment['name'])\n",
    "        body.append(comment['body'])\n",
    "        email.append(comment['email'])\n",
    "\n",
    "    return {\n",
    "        \"ID\": commentId,\n",
    "        \"TITLE\": title,\n",
    "        \"EMAIL\": email,\n",
    "        \"BODY\": body\n",
    "    }"
   ]
  },
  {
   "cell_type": "code",
   "execution_count": 77,
   "id": "47b9bdb3",
   "metadata": {},
   "outputs": [],
   "source": [
    "comments = getCommentRequest(start=0, limit=5)\n",
    "commentData = createCommentObjectData(comments)\n",
    "\n",
    "commentDataFrame = pd.DataFrame(commentData)"
   ]
  },
  {
   "cell_type": "markdown",
   "id": "e841ad45",
   "metadata": {},
   "source": [
    "### Metodos de visualização de dados\n",
    "- head\n",
    "- shape\n",
    "- describe"
   ]
  },
  {
   "cell_type": "code",
   "execution_count": 89,
   "id": "f8629854",
   "metadata": {},
   "outputs": [
    {
     "data": {
      "text/html": [
       "<div>\n",
       "<style scoped>\n",
       "    .dataframe tbody tr th:only-of-type {\n",
       "        vertical-align: middle;\n",
       "    }\n",
       "\n",
       "    .dataframe tbody tr th {\n",
       "        vertical-align: top;\n",
       "    }\n",
       "\n",
       "    .dataframe thead th {\n",
       "        text-align: right;\n",
       "    }\n",
       "</style>\n",
       "<table border=\"1\" class=\"dataframe\">\n",
       "  <thead>\n",
       "    <tr style=\"text-align: right;\">\n",
       "      <th></th>\n",
       "      <th>TITLE</th>\n",
       "      <th>EMAIL</th>\n",
       "    </tr>\n",
       "  </thead>\n",
       "  <tbody>\n",
       "    <tr>\n",
       "      <th>0</th>\n",
       "      <td>id labore ex et quam laborum</td>\n",
       "      <td>Eliseo@gardner.biz</td>\n",
       "    </tr>\n",
       "    <tr>\n",
       "      <th>1</th>\n",
       "      <td>quo vero reiciendis velit similique earum</td>\n",
       "      <td>Jayne_Kuhic@sydney.com</td>\n",
       "    </tr>\n",
       "    <tr>\n",
       "      <th>2</th>\n",
       "      <td>odio adipisci rerum aut animi</td>\n",
       "      <td>Nikita@garfield.biz</td>\n",
       "    </tr>\n",
       "    <tr>\n",
       "      <th>3</th>\n",
       "      <td>alias odio sit</td>\n",
       "      <td>Lew@alysha.tv</td>\n",
       "    </tr>\n",
       "    <tr>\n",
       "      <th>4</th>\n",
       "      <td>vero eaque aliquid doloribus et culpa</td>\n",
       "      <td>Hayden@althea.biz</td>\n",
       "    </tr>\n",
       "  </tbody>\n",
       "</table>\n",
       "</div>"
      ],
      "text/plain": [
       "                                       TITLE                   EMAIL\n",
       "0               id labore ex et quam laborum      Eliseo@gardner.biz\n",
       "1  quo vero reiciendis velit similique earum  Jayne_Kuhic@sydney.com\n",
       "2              odio adipisci rerum aut animi     Nikita@garfield.biz\n",
       "3                             alias odio sit           Lew@alysha.tv\n",
       "4      vero eaque aliquid doloribus et culpa       Hayden@althea.biz"
      ]
     },
     "metadata": {},
     "output_type": "display_data"
    },
    {
     "ename": "KeyError",
     "evalue": "5",
     "output_type": "error",
     "traceback": [
      "\u001b[1;31m---------------------------------------------------------------------------\u001b[0m",
      "\u001b[1;31mValueError\u001b[0m                                Traceback (most recent call last)",
      "File \u001b[1;32m~\\AppData\\Local\\Programs\\Python\\Python310\\lib\\site-packages\\pandas\\core\\indexes\\range.py:392\u001b[0m, in \u001b[0;36mRangeIndex.get_loc\u001b[1;34m(self, key, method, tolerance)\u001b[0m\n\u001b[0;32m    391\u001b[0m \u001b[38;5;28;01mtry\u001b[39;00m:\n\u001b[1;32m--> 392\u001b[0m     \u001b[38;5;28;01mreturn\u001b[39;00m \u001b[38;5;28;43mself\u001b[39;49m\u001b[38;5;241;43m.\u001b[39;49m\u001b[43m_range\u001b[49m\u001b[38;5;241;43m.\u001b[39;49m\u001b[43mindex\u001b[49m\u001b[43m(\u001b[49m\u001b[43mnew_key\u001b[49m\u001b[43m)\u001b[49m\n\u001b[0;32m    393\u001b[0m \u001b[38;5;28;01mexcept\u001b[39;00m \u001b[38;5;167;01mValueError\u001b[39;00m \u001b[38;5;28;01mas\u001b[39;00m err:\n",
      "\u001b[1;31mValueError\u001b[0m: 5 is not in range",
      "\nThe above exception was the direct cause of the following exception:\n",
      "\u001b[1;31mKeyError\u001b[0m                                  Traceback (most recent call last)",
      "Cell \u001b[1;32mIn [89], line 10\u001b[0m\n\u001b[0;32m      8\u001b[0m display(comments)\n\u001b[0;32m      9\u001b[0m \u001b[38;5;66;03m## Retorna valor especifico da coluna TITLE\u001b[39;00m\n\u001b[1;32m---> 10\u001b[0m comments \u001b[38;5;241m=\u001b[39m \u001b[43mtitleSerie\u001b[49m\u001b[43m[\u001b[49m\u001b[38;5;241;43m5\u001b[39;49m\u001b[43m]\u001b[49m\n\u001b[0;32m     12\u001b[0m \u001b[38;5;66;03m#W Retorna quantidade de linhas e colunas da tabela\u001b[39;00m\n\u001b[0;32m     13\u001b[0m comments \u001b[38;5;241m=\u001b[39m commentDataFrame\u001b[38;5;241m.\u001b[39mshape\n",
      "File \u001b[1;32m~\\AppData\\Local\\Programs\\Python\\Python310\\lib\\site-packages\\pandas\\core\\series.py:982\u001b[0m, in \u001b[0;36mSeries.__getitem__\u001b[1;34m(self, key)\u001b[0m\n\u001b[0;32m    979\u001b[0m     \u001b[38;5;28;01mreturn\u001b[39;00m \u001b[38;5;28mself\u001b[39m\u001b[38;5;241m.\u001b[39m_values[key]\n\u001b[0;32m    981\u001b[0m \u001b[38;5;28;01melif\u001b[39;00m key_is_scalar:\n\u001b[1;32m--> 982\u001b[0m     \u001b[38;5;28;01mreturn\u001b[39;00m \u001b[38;5;28;43mself\u001b[39;49m\u001b[38;5;241;43m.\u001b[39;49m\u001b[43m_get_value\u001b[49m\u001b[43m(\u001b[49m\u001b[43mkey\u001b[49m\u001b[43m)\u001b[49m\n\u001b[0;32m    984\u001b[0m \u001b[38;5;28;01mif\u001b[39;00m is_hashable(key):\n\u001b[0;32m    985\u001b[0m     \u001b[38;5;66;03m# Otherwise index.get_value will raise InvalidIndexError\u001b[39;00m\n\u001b[0;32m    986\u001b[0m     \u001b[38;5;28;01mtry\u001b[39;00m:\n\u001b[0;32m    987\u001b[0m         \u001b[38;5;66;03m# For labels that don't resolve as scalars like tuples and frozensets\u001b[39;00m\n",
      "File \u001b[1;32m~\\AppData\\Local\\Programs\\Python\\Python310\\lib\\site-packages\\pandas\\core\\series.py:1092\u001b[0m, in \u001b[0;36mSeries._get_value\u001b[1;34m(self, label, takeable)\u001b[0m\n\u001b[0;32m   1089\u001b[0m     \u001b[38;5;28;01mreturn\u001b[39;00m \u001b[38;5;28mself\u001b[39m\u001b[38;5;241m.\u001b[39m_values[label]\n\u001b[0;32m   1091\u001b[0m \u001b[38;5;66;03m# Similar to Index.get_value, but we do not fall back to positional\u001b[39;00m\n\u001b[1;32m-> 1092\u001b[0m loc \u001b[38;5;241m=\u001b[39m \u001b[38;5;28;43mself\u001b[39;49m\u001b[38;5;241;43m.\u001b[39;49m\u001b[43mindex\u001b[49m\u001b[38;5;241;43m.\u001b[39;49m\u001b[43mget_loc\u001b[49m\u001b[43m(\u001b[49m\u001b[43mlabel\u001b[49m\u001b[43m)\u001b[49m\n\u001b[0;32m   1093\u001b[0m \u001b[38;5;28;01mreturn\u001b[39;00m \u001b[38;5;28mself\u001b[39m\u001b[38;5;241m.\u001b[39mindex\u001b[38;5;241m.\u001b[39m_get_values_for_loc(\u001b[38;5;28mself\u001b[39m, loc, label)\n",
      "File \u001b[1;32m~\\AppData\\Local\\Programs\\Python\\Python310\\lib\\site-packages\\pandas\\core\\indexes\\range.py:394\u001b[0m, in \u001b[0;36mRangeIndex.get_loc\u001b[1;34m(self, key, method, tolerance)\u001b[0m\n\u001b[0;32m    392\u001b[0m         \u001b[38;5;28;01mreturn\u001b[39;00m \u001b[38;5;28mself\u001b[39m\u001b[38;5;241m.\u001b[39m_range\u001b[38;5;241m.\u001b[39mindex(new_key)\n\u001b[0;32m    393\u001b[0m     \u001b[38;5;28;01mexcept\u001b[39;00m \u001b[38;5;167;01mValueError\u001b[39;00m \u001b[38;5;28;01mas\u001b[39;00m err:\n\u001b[1;32m--> 394\u001b[0m         \u001b[38;5;28;01mraise\u001b[39;00m \u001b[38;5;167;01mKeyError\u001b[39;00m(key) \u001b[38;5;28;01mfrom\u001b[39;00m \u001b[38;5;21;01merr\u001b[39;00m\n\u001b[0;32m    395\u001b[0m \u001b[38;5;28mself\u001b[39m\u001b[38;5;241m.\u001b[39m_check_indexing_error(key)\n\u001b[0;32m    396\u001b[0m \u001b[38;5;28;01mraise\u001b[39;00m \u001b[38;5;167;01mKeyError\u001b[39;00m(key)\n",
      "\u001b[1;31mKeyError\u001b[0m: 5"
     ]
    }
   ],
   "source": [
    "## Retorna 10 registros na tabela\n",
    "comments = commentDataFrame.head(10)\n",
    "\n",
    "## Retorna coluna/colunas especificas da tabela\n",
    "comments = commentDataFrame['TITLE']\n",
    "\n",
    "comments = commentDataFrame[['TITLE', 'EMAIL']]\n",
    "display(comments)\n",
    "## Retorna valor especifico da coluna TITLE\n",
    "comments = titleSerie[5]\n",
    "\n",
    "#W Retorna quantidade de linhas e colunas da tabela\n",
    "comments = commentDataFrame.shape\n",
    "\n",
    "## Retorna informações sobre os registros na tabela\n",
    "comments = commentDataFrame.describe()"
   ]
  },
  {
   "cell_type": "markdown",
   "id": "3aa2088d",
   "metadata": {},
   "source": [
    "### Visualização dos dados utilizando o metodo loc\n",
    ".loc[linha, coluna]"
   ]
  },
  {
   "cell_type": "code",
   "execution_count": null,
   "id": "bdb64063",
   "metadata": {},
   "outputs": [],
   "source": [
    "## Retorna o primeiro resgitro da tabela\n",
    "firstComment = commentDataFrame.loc[0]\n",
    "\n",
    "## Retorna do primeiro registro até o terceiro\n",
    "comments = commentDataFrame.loc[0:2]\n",
    "\n",
    "## Retorna uma linha da tabela filtrando um registro\n",
    "filterComment = commentDataFrame['EMAIL'] == 'Eliseo@gardner.biz'\n",
    "comments = commentDataFrame.loc[filterComment]\n",
    "\n",
    "## Retorna um registro mostrando coluna especificas\n",
    "comments = commentDataFrame.loc[filterComment, ['TITLE', 'EMAIL']]\n",
    "\n",
    "## Retorna valor especifico da coluna\n",
    "comments = commentDataFrame.loc[1, 'TITLE']"
   ]
  },
  {
   "attachments": {},
   "cell_type": "markdown",
   "id": "a30abf52",
   "metadata": {},
   "source": [
    "### Adicionar nova coluna"
   ]
  },
  {
   "cell_type": "code",
   "execution_count": null,
   "id": "d6005a40",
   "metadata": {},
   "outputs": [],
   "source": [
    "## Criar coluna a partir de uma coluna existente\n",
    "commentDataFrame['SLUG'] = commentDataFrame['TITLE']\n",
    "\n",
    "## Criar coluna nova\n",
    "commentDataFrame.loc[:, 'POST_ID'] = 1\n"
   ]
  },
  {
   "cell_type": "markdown",
   "id": "6c95a177",
   "metadata": {},
   "source": [
    "### Adicionar novas linhas"
   ]
  },
  {
   "cell_type": "code",
   "execution_count": 80,
   "id": "db6a73c7",
   "metadata": {},
   "outputs": [],
   "source": [
    "newComments = getCommentRequest(start=5, limit=5)\n",
    "commentData = createCommentObjectData(newComments)\n",
    "\n",
    "newCommentDataFrame = pd.DataFrame(commentData)\n",
    "comments = commentDataFrame.append(newCommentDataFrame)"
   ]
  },
  {
   "cell_type": "markdown",
   "id": "14b7cf8c",
   "metadata": {},
   "source": [
    "### Excluir linhas e colunas\n",
    "axis: eixo da coluna ou linha. 0 é a linha e 1 é a coluna"
   ]
  },
  {
   "cell_type": "code",
   "execution_count": 85,
   "id": "fdb20e2e",
   "metadata": {},
   "outputs": [
    {
     "data": {
      "text/html": [
       "<div>\n",
       "<style scoped>\n",
       "    .dataframe tbody tr th:only-of-type {\n",
       "        vertical-align: middle;\n",
       "    }\n",
       "\n",
       "    .dataframe tbody tr th {\n",
       "        vertical-align: top;\n",
       "    }\n",
       "\n",
       "    .dataframe thead th {\n",
       "        text-align: right;\n",
       "    }\n",
       "</style>\n",
       "<table border=\"1\" class=\"dataframe\">\n",
       "  <thead>\n",
       "    <tr style=\"text-align: right;\">\n",
       "      <th></th>\n",
       "      <th>ID</th>\n",
       "      <th>TITLE</th>\n",
       "      <th>EMAIL</th>\n",
       "      <th>BODY</th>\n",
       "    </tr>\n",
       "  </thead>\n",
       "  <tbody>\n",
       "    <tr>\n",
       "      <th>1</th>\n",
       "      <td>2</td>\n",
       "      <td>quo vero reiciendis velit similique earum</td>\n",
       "      <td>Jayne_Kuhic@sydney.com</td>\n",
       "      <td>est natus enim nihil est dolore omnis voluptat...</td>\n",
       "    </tr>\n",
       "    <tr>\n",
       "      <th>2</th>\n",
       "      <td>3</td>\n",
       "      <td>odio adipisci rerum aut animi</td>\n",
       "      <td>Nikita@garfield.biz</td>\n",
       "      <td>quia molestiae reprehenderit quasi aspernatur\\...</td>\n",
       "    </tr>\n",
       "    <tr>\n",
       "      <th>3</th>\n",
       "      <td>4</td>\n",
       "      <td>alias odio sit</td>\n",
       "      <td>Lew@alysha.tv</td>\n",
       "      <td>non et atque\\noccaecati deserunt quas accusant...</td>\n",
       "    </tr>\n",
       "    <tr>\n",
       "      <th>4</th>\n",
       "      <td>5</td>\n",
       "      <td>vero eaque aliquid doloribus et culpa</td>\n",
       "      <td>Hayden@althea.biz</td>\n",
       "      <td>harum non quasi et ratione\\ntempore iure ex vo...</td>\n",
       "    </tr>\n",
       "  </tbody>\n",
       "</table>\n",
       "</div>"
      ],
      "text/plain": [
       "   ID                                      TITLE                   EMAIL  \\\n",
       "1   2  quo vero reiciendis velit similique earum  Jayne_Kuhic@sydney.com   \n",
       "2   3              odio adipisci rerum aut animi     Nikita@garfield.biz   \n",
       "3   4                             alias odio sit           Lew@alysha.tv   \n",
       "4   5      vero eaque aliquid doloribus et culpa       Hayden@althea.biz   \n",
       "\n",
       "                                                BODY  \n",
       "1  est natus enim nihil est dolore omnis voluptat...  \n",
       "2  quia molestiae reprehenderit quasi aspernatur\\...  \n",
       "3  non et atque\\noccaecati deserunt quas accusant...  \n",
       "4  harum non quasi et ratione\\ntempore iure ex vo...  "
      ]
     },
     "metadata": {},
     "output_type": "display_data"
    }
   ],
   "source": [
    "comments = commentDataFrame.drop('BODY', axis=1)\n",
    "comments = commentDataFrame.drop(0, axis=0)"
   ]
  },
  {
   "cell_type": "code",
   "execution_count": null,
   "id": "0767a4d3",
   "metadata": {},
   "outputs": [],
   "source": []
  }
 ],
 "metadata": {
  "kernelspec": {
   "display_name": "Python 3 (ipykernel)",
   "language": "python",
   "name": "python3"
  },
  "language_info": {
   "codemirror_mode": {
    "name": "ipython",
    "version": 3
   },
   "file_extension": ".py",
   "mimetype": "text/x-python",
   "name": "python",
   "nbconvert_exporter": "python",
   "pygments_lexer": "ipython3",
   "version": "3.10.6"
  },
  "vscode": {
   "interpreter": {
    "hash": "d776b604cc3904292aea37f4daa2a46de34e87e5ec4d2ed68e9e515ab9feb7f7"
   }
  }
 },
 "nbformat": 4,
 "nbformat_minor": 5
}
