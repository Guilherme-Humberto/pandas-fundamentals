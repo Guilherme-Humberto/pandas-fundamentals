{
 "cells": [
  {
   "cell_type": "markdown",
   "id": "f31302c6",
   "metadata": {},
   "source": [
    "# Consultas SQL no Pandas\n",
    "\n",
    "Busca e filtragem de dados com pandas e pandasql.\\\n",
    "Pandasql permite que consultar DataFrames do Pandas usando sintaxe SQL."
   ]
  },
  {
   "cell_type": "code",
   "execution_count": 9,
   "id": "3693f8c3",
   "metadata": {},
   "outputs": [],
   "source": [
    "import pandas as pd\n",
    "import pandasql as ps\n",
    "import sqlite3 as sqlite\n",
    "\n",
    "productsData = pd.read_csv('files/products.csv')\n",
    "connection = sqlite.connect(\"./data/database.db\")\n",
    "\n",
    "## cursor.execute(\"CREATE TABLE products (title text, description text, price real, discountPercentage real)\")"
   ]
  },
  {
   "cell_type": "code",
   "execution_count": 27,
   "id": "495ea5a0",
   "metadata": {},
   "outputs": [],
   "source": [
    "## Filtragem valores com pandas query\n",
    "result = productsData.query(\"category == 'smartphones' and discountPercentage > 10\")"
   ]
  },
  {
   "cell_type": "code",
   "execution_count": 11,
   "id": "130d8ec0",
   "metadata": {},
   "outputs": [],
   "source": [
    "## Função para consultas com pandasql\n",
    "def query(sql): return ps.sqldf(sql, globals())"
   ]
  },
  {
   "cell_type": "code",
   "execution_count": 12,
   "id": "54d4b6e8",
   "metadata": {},
   "outputs": [],
   "source": [
    "sql_query = '''\n",
    "    SELECT * FROM productsData WHERE category = 'smartphones';\n",
    "'''\n",
    "result = query(sql_query)"
   ]
  },
  {
   "cell_type": "code",
   "execution_count": 13,
   "id": "79993a24",
   "metadata": {},
   "outputs": [],
   "source": [
    "sql_query = '''\n",
    "    SELECT title, description, price, discountPercentage \n",
    "    FROM productsData WHERE category = 'smartphones'\n",
    "    AND stock > 0 AND discountPercentage > 10;\n",
    "'''\n",
    "result = query(sql_query)"
   ]
  },
  {
   "cell_type": "code",
   "execution_count": 14,
   "id": "d3d22004",
   "metadata": {},
   "outputs": [],
   "source": [
    "for index, row in result.iterrows():\n",
    "    cursor = connection.cursor()\n",
    "    sql_query = 'INSERT INTO products VALUES (?, ?, ?, ?)'\n",
    "    cursor.execute(sql_query, [row.title, row.description, row.price, row.discountPercentage])\n",
    "    cursor.close()\n",
    "\n",
    "connection.commit()"
   ]
  },
  {
   "cell_type": "code",
   "execution_count": 20,
   "id": "ebfe7a1a",
   "metadata": {},
   "outputs": [],
   "source": [
    "cursor = connection.cursor()\n",
    "sql_query = '''\n",
    "    SELECT * FROM products;\n",
    "'''\n",
    "result = cursor.execute(sql_query)\n",
    "result = result.fetchall()\n",
    "\n",
    "## for product in result: print(product)\n",
    "\n",
    "cursor.close()"
   ]
  }
 ],
 "metadata": {
  "kernelspec": {
   "display_name": "Python 3 (ipykernel)",
   "language": "python",
   "name": "python3"
  },
  "language_info": {
   "codemirror_mode": {
    "name": "ipython",
    "version": 3
   },
   "file_extension": ".py",
   "mimetype": "text/x-python",
   "name": "python",
   "nbconvert_exporter": "python",
   "pygments_lexer": "ipython3",
   "version": "3.9.13"
  }
 },
 "nbformat": 4,
 "nbformat_minor": 5
}
