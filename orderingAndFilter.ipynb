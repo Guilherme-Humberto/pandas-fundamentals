{
 "cells": [
  {
   "cell_type": "markdown",
   "id": "0c9a3ac4",
   "metadata": {},
   "source": [
    "# Ordenação de valores e filtragem de colunas\n",
    "\n",
    "Ordenando dados usando o sort_values e filtragem de colunas"
   ]
  },
  {
   "cell_type": "code",
   "execution_count": 39,
   "id": "f350f304",
   "metadata": {},
   "outputs": [],
   "source": [
    "import pandas as pd\n",
    "\n",
    "productsData = pd.read_csv('files/products.csv')\n",
    "productsData = productsData.set_index('id')"
   ]
  },
  {
   "cell_type": "code",
   "execution_count": 67,
   "id": "97b03d2e",
   "metadata": {},
   "outputs": [
    {
     "data": {
      "text/html": [
       "<div>\n",
       "<style scoped>\n",
       "    .dataframe tbody tr th:only-of-type {\n",
       "        vertical-align: middle;\n",
       "    }\n",
       "\n",
       "    .dataframe tbody tr th {\n",
       "        vertical-align: top;\n",
       "    }\n",
       "\n",
       "    .dataframe thead th {\n",
       "        text-align: right;\n",
       "    }\n",
       "</style>\n",
       "<table border=\"1\" class=\"dataframe\">\n",
       "  <thead>\n",
       "    <tr style=\"text-align: right;\">\n",
       "      <th></th>\n",
       "      <th>title</th>\n",
       "      <th>price</th>\n",
       "    </tr>\n",
       "    <tr>\n",
       "      <th>id</th>\n",
       "      <th></th>\n",
       "      <th></th>\n",
       "    </tr>\n",
       "  </thead>\n",
       "  <tbody>\n",
       "    <tr>\n",
       "      <th>17</th>\n",
       "      <td>Tree Oil 30ml</td>\n",
       "      <td>12</td>\n",
       "    </tr>\n",
       "    <tr>\n",
       "      <th>13</th>\n",
       "      <td>Fog Scent Xpressio Perfume</td>\n",
       "      <td>13</td>\n",
       "    </tr>\n",
       "    <tr>\n",
       "      <th>11</th>\n",
       "      <td>perfume Oil</td>\n",
       "      <td>13</td>\n",
       "    </tr>\n",
       "    <tr>\n",
       "      <th>23</th>\n",
       "      <td>Orange Essence Food Flavou</td>\n",
       "      <td>14</td>\n",
       "    </tr>\n",
       "    <tr>\n",
       "      <th>22</th>\n",
       "      <td>Elbow Macaroni - 400 gm</td>\n",
       "      <td>14</td>\n",
       "    </tr>\n",
       "  </tbody>\n",
       "</table>\n",
       "</div>"
      ],
      "text/plain": [
       "                         title  price\n",
       "id                                   \n",
       "17               Tree Oil 30ml     12\n",
       "13  Fog Scent Xpressio Perfume     13\n",
       "11                 perfume Oil     13\n",
       "23  Orange Essence Food Flavou     14\n",
       "22     Elbow Macaroni - 400 gm     14"
      ]
     },
     "execution_count": 67,
     "metadata": {},
     "output_type": "execute_result"
    }
   ],
   "source": [
    "## Ordernando produtos por preço - do menor para o maior\n",
    "result = productsData.sort_values('price')\n",
    "\n",
    "## Primeira forma filtragem de colunas\n",
    "result[['title', 'price']].head()\n",
    "\n",
    "## Filtragem de colunas usando a função filter\n",
    "result.filter(items = ['title', 'price']).head()"
   ]
  },
  {
   "cell_type": "code",
   "execution_count": 68,
   "id": "e272ca3f",
   "metadata": {},
   "outputs": [
    {
     "data": {
      "text/html": [
       "<div>\n",
       "<style scoped>\n",
       "    .dataframe tbody tr th:only-of-type {\n",
       "        vertical-align: middle;\n",
       "    }\n",
       "\n",
       "    .dataframe tbody tr th {\n",
       "        vertical-align: top;\n",
       "    }\n",
       "\n",
       "    .dataframe thead th {\n",
       "        text-align: right;\n",
       "    }\n",
       "</style>\n",
       "<table border=\"1\" class=\"dataframe\">\n",
       "  <thead>\n",
       "    <tr style=\"text-align: right;\">\n",
       "      <th></th>\n",
       "      <th>discountPercentage</th>\n",
       "    </tr>\n",
       "    <tr>\n",
       "      <th>id</th>\n",
       "      <th></th>\n",
       "    </tr>\n",
       "  </thead>\n",
       "  <tbody>\n",
       "    <tr>\n",
       "      <th>2</th>\n",
       "      <td>17.94</td>\n",
       "    </tr>\n",
       "    <tr>\n",
       "      <th>4</th>\n",
       "      <td>17.91</td>\n",
       "    </tr>\n",
       "    <tr>\n",
       "      <th>26</th>\n",
       "      <td>17.86</td>\n",
       "    </tr>\n",
       "    <tr>\n",
       "      <th>20</th>\n",
       "      <td>16.99</td>\n",
       "    </tr>\n",
       "    <tr>\n",
       "      <th>24</th>\n",
       "      <td>16.80</td>\n",
       "    </tr>\n",
       "  </tbody>\n",
       "</table>\n",
       "</div>"
      ],
      "text/plain": [
       "    discountPercentage\n",
       "id                    \n",
       "2                17.94\n",
       "4                17.91\n",
       "26               17.86\n",
       "20               16.99\n",
       "24               16.80"
      ]
     },
     "execution_count": 68,
     "metadata": {},
     "output_type": "execute_result"
    }
   ],
   "source": [
    "## Ordernando produtos por preço - do maior para o menor\n",
    "result = productsData.sort_values('discountPercentage', ascending=False)\n",
    "\n",
    "## Usando like para buscar colunas que contenham os caracteres\n",
    "result.filter(like = 'discount').head()"
   ]
  },
  {
   "cell_type": "code",
   "execution_count": 66,
   "id": "0359d3c1",
   "metadata": {},
   "outputs": [],
   "source": [
    "## Ordernando mais de uma coluna\n",
    "result = productsData.sort_values(['stock', 'price'])\n",
    "result[['title', 'price', 'stock']]"
   ]
  }
 ],
 "metadata": {
  "kernelspec": {
   "display_name": "Python 3 (ipykernel)",
   "language": "python",
   "name": "python3"
  },
  "language_info": {
   "codemirror_mode": {
    "name": "ipython",
    "version": 3
   },
   "file_extension": ".py",
   "mimetype": "text/x-python",
   "name": "python",
   "nbconvert_exporter": "python",
   "pygments_lexer": "ipython3",
   "version": "3.9.13"
  }
 },
 "nbformat": 4,
 "nbformat_minor": 5
}
